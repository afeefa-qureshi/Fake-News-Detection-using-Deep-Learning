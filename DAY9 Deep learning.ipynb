{
 "cells": [
  {
   "cell_type": "markdown",
   "id": "d5b8b0fa",
   "metadata": {},
   "source": [
    "## Fake News Detection using Deep Learning"
   ]
  },
  {
   "cell_type": "code",
   "execution_count": 5,
   "id": "841c9167",
   "metadata": {},
   "outputs": [
    {
     "name": "stdout",
     "output_type": "stream",
     "text": [
      "WARNING:tensorflow:From C:\\Users\\Star\\Anaconda3\\lib\\site-packages\\keras\\src\\optimizers\\__init__.py:309: The name tf.train.Optimizer is deprecated. Please use tf.compat.v1.train.Optimizer instead.\n",
      "\n",
      "Epoch 1/5\n",
      "WARNING:tensorflow:From C:\\Users\\Star\\Anaconda3\\lib\\site-packages\\keras\\src\\utils\\tf_utils.py:492: The name tf.ragged.RaggedTensorValue is deprecated. Please use tf.compat.v1.ragged.RaggedTensorValue instead.\n",
      "\n",
      "WARNING:tensorflow:From C:\\Users\\Star\\Anaconda3\\lib\\site-packages\\keras\\src\\engine\\base_layer_utils.py:384: The name tf.executing_eagerly_outside_functions is deprecated. Please use tf.compat.v1.executing_eagerly_outside_functions instead.\n",
      "\n",
      "722/722 [==============================] - 269s 365ms/step - loss: 0.2237 - accuracy: 0.9145 - val_loss: 0.1878 - val_accuracy: 0.9400\n",
      "Epoch 2/5\n",
      "722/722 [==============================] - 247s 342ms/step - loss: 0.2030 - accuracy: 0.9251 - val_loss: 0.1532 - val_accuracy: 0.9481\n",
      "Epoch 3/5\n",
      "722/722 [==============================] - 241s 333ms/step - loss: 0.1109 - accuracy: 0.9630 - val_loss: 0.1257 - val_accuracy: 0.9569\n",
      "Epoch 4/5\n",
      "722/722 [==============================] - 231s 320ms/step - loss: 0.0837 - accuracy: 0.9719 - val_loss: 0.1645 - val_accuracy: 0.9510\n",
      "Epoch 5/5\n",
      "722/722 [==============================] - 250s 347ms/step - loss: 0.0704 - accuracy: 0.9773 - val_loss: 0.1428 - val_accuracy: 0.9510\n",
      "451/451 [==============================] - 34s 73ms/step\n",
      "Model Accuracy: 0.95\n"
     ]
    }
   ],
   "source": [
    "import numpy as np\n",
    "import pandas as pd\n",
    "from tensorflow.keras.preprocessing.text import Tokenizer\n",
    "from tensorflow.keras.preprocessing.sequence import pad_sequences\n",
    "from tensorflow.keras.models import Sequential\n",
    "from tensorflow.keras.layers import Embedding, LSTM, Dense, Dropout\n",
    "from sklearn.model_selection import train_test_split\n",
    "from sklearn.metrics import accuracy_score\n",
    "\n",
    "# Load and preprocess the dataset\n",
    "# Assuming `news.csv` has 'text' and 'label' columns, where 'text' is the news content and 'label' is 1 (fake) or 0 (real)\n",
    "data = pd.read_csv(\"news_Dataset.csv\")\n",
    "\n",
    "\n",
    "# Fill missing values and convert all entries to strings\n",
    "X = data['text'].fillna(\"\").astype(str)\n",
    "y = data['label'].values\n",
    "\n",
    "# Split into training and test sets\n",
    "X_train, X_test, y_train, y_test = train_test_split(X, y, test_size=0.2, random_state=42)\n",
    "\n",
    "# Tokenize and pad the text data\n",
    "vocab_size = 5000\n",
    "max_len = 200\n",
    "\n",
    "tokenizer = Tokenizer(num_words=vocab_size)\n",
    "tokenizer.fit_on_texts(X_train)\n",
    "\n",
    "X_train_seq = tokenizer.texts_to_sequences(X_train)\n",
    "X_test_seq = tokenizer.texts_to_sequences(X_test)\n",
    "\n",
    "X_train_padded = pad_sequences(X_train_seq, maxlen=max_len)\n",
    "X_test_padded = pad_sequences(X_test_seq, maxlen=max_len)\n",
    "\n",
    "# Build the LSTM model\n",
    "model = Sequential([\n",
    "    Embedding(vocab_size, 128, input_length=max_len),\n",
    "    LSTM(64, return_sequences=True),\n",
    "    Dropout(0.5),\n",
    "    LSTM(32),\n",
    "    Dropout(0.5),\n",
    "    Dense(1, activation='sigmoid')\n",
    "])\n",
    "\n",
    "model.compile(loss='binary_crossentropy', optimizer='adam', metrics=['accuracy'])\n",
    "\n",
    "# Train the model\n",
    "batch_size = 64\n",
    "epochs = 5\n",
    "model.fit(X_train_padded, y_train, batch_size=batch_size, epochs=epochs, validation_split=0.2)\n",
    "\n",
    "# Evaluate the model\n",
    "y_pred = model.predict(X_test_padded)\n",
    "y_pred = (y_pred > 0.5).astype(int)\n",
    "\n",
    "accuracy = accuracy_score(y_test, y_pred)\n",
    "print(f\"Model Accuracy: {accuracy:.2f}\")\n"
   ]
  },
  {
   "cell_type": "code",
   "execution_count": 6,
   "id": "84e3e8d1",
   "metadata": {},
   "outputs": [
    {
     "name": "stderr",
     "output_type": "stream",
     "text": [
      "C:\\Users\\Star\\Anaconda3\\lib\\site-packages\\keras\\src\\engine\\training.py:3103: UserWarning: You are saving your model as an HDF5 file via `model.save()`. This file format is considered legacy. We recommend using instead the native Keras format, e.g. `model.save('my_model.keras')`.\n",
      "  saving_api.save_model(\n"
     ]
    }
   ],
   "source": [
    "# Save the trained model\n",
    "model.save(\"fake_news_detector_model.h5\")\n"
   ]
  },
  {
   "cell_type": "code",
   "execution_count": 8,
   "id": "6545b2cd",
   "metadata": {},
   "outputs": [
    {
     "name": "stdout",
     "output_type": "stream",
     "text": [
      "1/1 [==============================] - 2s 2s/step\n",
      "1/1 [==============================] - 0s 68ms/step\n"
     ]
    }
   ],
   "source": [
    "import tkinter as tk\n",
    "from tensorflow.keras.models import load_model\n",
    "from tensorflow.keras.preprocessing.sequence import pad_sequences\n",
    "import numpy as np\n",
    "\n",
    "# Load the saved model\n",
    "model = load_model(\"fake_news_detector_model.h5\")\n",
    "\n",
    "# Load the tokenizer (assuming it was saved as tokenizer.pkl using joblib or pickle)\n",
    "# from joblib import load\n",
    "# tokenizer = load('tokenizer.pkl')\n",
    "\n",
    "# Function to preprocess and predict\n",
    "def predict_news():\n",
    "    # Get the news text from the entry widget\n",
    "    news_text = news_entry.get(\"1.0\", tk.END)\n",
    "    \n",
    "    # Preprocess the text (tokenize and pad)\n",
    "    sequence = tokenizer.texts_to_sequences([news_text])\n",
    "    padded_sequence = pad_sequences(sequence, maxlen=200)\n",
    "    \n",
    "    # Predict using the model\n",
    "    prediction = model.predict(padded_sequence)\n",
    "    \n",
    "    # Display the result\n",
    "    if prediction > 0.5:\n",
    "        result_label.config(text=\"Fake News\", fg=\"#ff4d4d\")  # Red for Fake News\n",
    "    else:\n",
    "        result_label.config(text=\"Real News\", fg=\"#4CAF50\")  # Green for Real News\n",
    "\n",
    "# Initialize the GUI\n",
    "root = tk.Tk()\n",
    "root.title(\"Fake News Detector\")\n",
    "root.geometry(\"500x400\")\n",
    "root.configure(bg=\"#101c4f\") \n",
    "\n",
    "# Add a heading\n",
    "heading_label = tk.Label(root, text=\"Fake News Detection Using Deep Learning\", \n",
    "                         font=(\"Helvetica\", 18, \"bold\"), bg=\"#f2f2f2\", fg=\"#333333\")\n",
    "heading_label.pack(pady=15)\n",
    "\n",
    "# Add a text box for entering news content\n",
    "news_entry = tk.Text(root, height=10, width=50, font=(\"Helvetica\", 12), wrap=\"word\", borderwidth=2, relief=\"groove\")\n",
    "news_entry.pack(pady=10)\n",
    "\n",
    "# Add a styled button to predict\n",
    "def on_enter(e):\n",
    "    predict_button['background'] = '#aaefcf'  \n",
    "    predict_button['foreground'] = 'Black'\n",
    "\n",
    "def on_leave(e):\n",
    "    predict_button['background'] = '#495867'  \n",
    "    predict_button['foreground'] = 'white'\n",
    "\n",
    "predict_button = tk.Button(root, text=\"Check News\", command=predict_news, font=(\"Helvetica\", 14, \"bold\"), \n",
    "                           bg=\"#101c4f\", fg=\"white\", padx=20, pady=5, borderwidth=2, relief=\"raised\", cursor=\"hand2\")\n",
    "predict_button.bind(\"<Enter>\", on_enter)\n",
    "predict_button.bind(\"<Leave>\", on_leave)\n",
    "predict_button.pack(pady=15)\n",
    "\n",
    "# Add a label to show the result\n",
    "result_label = tk.Label(root, text=\"\", font=(\"Helvetica\", 16, \"bold\"), bg=\"#101c4f\")\n",
    "result_label.pack(pady=15)\n",
    "\n",
    "# Start the GUI loop\n",
    "root.mainloop()\n"
   ]
  },
  {
   "cell_type": "code",
   "execution_count": null,
   "id": "324ea0c6",
   "metadata": {},
   "outputs": [],
   "source": [
    "\n",
    "\n",
    "# Example usage\n",
    "news_article = \"\"\"A recent study claims that a new herbal supplement can cure over 90% of chronic illnesses. \n",
    "Experts are skeptical, citing the lack of scientific evidence and clinical trials. \n",
    "Despite this, the supplement has gained massive popularity on social media.\"\"\"\n",
    "\n"
   ]
  },
  {
   "cell_type": "code",
   "execution_count": null,
   "id": "bd54dbad",
   "metadata": {},
   "outputs": [],
   "source": []
  }
 ],
 "metadata": {
  "kernelspec": {
   "display_name": "Python 3 (ipykernel)",
   "language": "python",
   "name": "python3"
  },
  "language_info": {
   "codemirror_mode": {
    "name": "ipython",
    "version": 3
   },
   "file_extension": ".py",
   "mimetype": "text/x-python",
   "name": "python",
   "nbconvert_exporter": "python",
   "pygments_lexer": "ipython3",
   "version": "3.9.13"
  }
 },
 "nbformat": 4,
 "nbformat_minor": 5
}
